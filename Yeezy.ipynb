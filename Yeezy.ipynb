{
 "cells": [
  {
   "cell_type": "code",
   "execution_count": 22,
   "metadata": {},
   "outputs": [],
   "source": [
    "import time\n",
    "from selenium import webdriver\n",
    "from typing import List\n",
    "from selenium.webdriver.chrome.webdriver import WebDriver\n",
    "from selenium.webdriver.remote.webelement import WebElement\n",
    "from selenium.webdriver.common.keys import Keys\n",
    "from selenium.webdriver.support.ui import WebDriverWait\n",
    "from selenium.webdriver.support import expected_conditions as EC\n",
    "from selenium.webdriver.common.by import By\n",
    "from selenium import webdriver\n",
    "from selenium.webdriver.chrome.options import Options\n",
    "from selenium.webdriver.common.by import By\n",
    "from selenium.common.exceptions import NoSuchElementException\n",
    "\n",
    "chrome_options = Options()\n",
    "chrome_options.add_argument('--disable-blink-features=AutomationControlled')\n"
   ]
  },
  {
   "cell_type": "code",
   "execution_count": 23,
   "metadata": {},
   "outputs": [
    {
     "name": "stderr",
     "output_type": "stream",
     "text": [
      "<ipython-input-23-7500b7eda033>:9: DeprecationWarning: use options instead of chrome_options\n",
      "  browser = webdriver.Chrome(executable_path=chromedriver, chrome_options=chrome_options)\n"
     ]
    }
   ],
   "source": [
    "#BASE_URL = \"https://www.nike.com/it/t/scarpa-dunk-high-retro-XVRxQ9/DD1399-103\"\n",
    "BASE_URL = \"https://www.adidas.it/yeezy\"\n",
    "#SECOND_URL = \"https://www.adidas.it/yeezy/product/GW2873\"\n",
    "SECOND_URL = \"https://www.adidas.it/yeezy/product/FY4567\"\n",
    "\n",
    "\n",
    "chromedriver = \"/home/alesssandro/sw/chromedriver\"\n",
    "driver = webdriver.Chrome (executable_path=\"/home/alesssandro/sw/chromedriver\")\n",
    "browser = webdriver.Chrome(executable_path=chromedriver, chrome_options=chrome_options)\n",
    "browser.get(BASE_URL)\n",
    "wait = WebDriverWait(browser, 10)"
   ]
  },
  {
   "cell_type": "code",
   "execution_count": 24,
   "metadata": {},
   "outputs": [],
   "source": [
    "def credenziali():\n",
    "    wait.until(EC.visibility_of_element_located((By.ID, 'shippingAddress-firstName'))).send_keys(\"Alessandro\")\n",
    "    wait.until(EC.visibility_of_element_located((By.ID, 'shippingAddress-lastName'))).send_keys(\"Fogli\")\n",
    "    wait.until(EC.visibility_of_element_located((By.ID, 'shippingAddress-address1'))).send_keys(\"Via Bonadonna 25\")\n",
    "    wait.until(EC.visibility_of_element_located((By.ID, 'shippingAddress-zipcode'))).send_keys(\"10098\")\n",
    "    wait.until(EC.visibility_of_element_located((By.ID, 'shippingAddress-city'))).send_keys(\"Rivoli\")\n",
    "    wait.until(EC.visibility_of_element_located((By.ID, 'shippingAddress-emailAddress'))).send_keys(\"alessandro.fogli@outlook.it\")\n",
    "    \n",
    "    browser.find_element_by_xpath(\"//div[2]/div/main/div[6]/button\").click();\n",
    "    wait.until(EC.visibility_of_element_located((By.ID, 'card-number'))).send_keys(\"5375906406623490\")\n",
    "    wait.until(EC.visibility_of_element_located((By.XPATH, \"//div[@class='gl-input']/input[@id='name']\"))).send_keys(\"Fogli Alessandro\")\n",
    "    wait.until(EC.visibility_of_element_located((By.ID, 'expiryDate'))).send_keys(\"0123\")\n",
    "    wait.until(EC.visibility_of_element_located((By.ID, 'security-number-field'))).send_keys(\"867\")\n",
    "    browser.find_element_by_xpath(\"//button[@class='gl-cta gl-cta--primary gl-cta--full-width order-button___2AFtM gl-vspace-bpall-medium']/span[@class='gl-cta__content']\").click();\n",
    "    "
   ]
  },
  {
   "cell_type": "code",
   "execution_count": 25,
   "metadata": {},
   "outputs": [],
   "source": [
    "def ciclo():\n",
    "    while True:\n",
    "        try:\n",
    "            browser.find_element_by_xpath('//a[@href=\"https://www.adidas.it/yeezy/product/FY4567\"]').click()\n",
    "        except NoSuchElementException:\n",
    "            browser.refresh()\n",
    "        else:\n",
    "            wait.until(EC.presence_of_element_located((By.CLASS_NAME, \"src-components-___sizes-dropdown__sizesDropdown___Dj9Z9\"))).click();\n",
    "            wait.until(EC.visibility_of_element_located((By.XPATH, \"//div/ul/li[11]\"))).click();\n",
    "            wait.until(EC.visibility_of_element_located((By.CLASS_NAME, \"src-components-___add-to-bag-form__addToBagButton___3iEAg\"))).click();\n",
    "            wait.until(EC.visibility_of_element_located((By.XPATH, \"//div[@class='checkout-actions__button-wrapper___2zgj3'][1]/button[@class='gl-cta gl-cta--primary gl-cta--full-width']\"))).click();\n",
    "            \n",
    "            break"
   ]
  },
  {
   "cell_type": "code",
   "execution_count": null,
   "metadata": {},
   "outputs": [],
   "source": [
    "ciclo()\n",
    "credenziali()"
   ]
  },
  {
   "cell_type": "code",
   "execution_count": null,
   "metadata": {},
   "outputs": [],
   "source": []
  }
 ],
 "metadata": {
  "kernelspec": {
   "display_name": "Python 3",
   "language": "python",
   "name": "python3"
  },
  "language_info": {
   "codemirror_mode": {
    "name": "ipython",
    "version": 3
   },
   "file_extension": ".py",
   "mimetype": "text/x-python",
   "name": "python",
   "nbconvert_exporter": "python",
   "pygments_lexer": "ipython3",
   "version": "3.8.5"
  }
 },
 "nbformat": 4,
 "nbformat_minor": 4
}
