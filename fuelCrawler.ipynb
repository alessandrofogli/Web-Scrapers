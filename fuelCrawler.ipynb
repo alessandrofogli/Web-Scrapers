{
 "cells": [
  {
   "cell_type": "code",
   "execution_count": 61,
   "metadata": {},
   "outputs": [],
   "source": [
    "import numpy as np\n",
    "import time\n",
    "from selenium import webdriver\n",
    "from typing import List\n",
    "import pandas as pd\n",
    "import os\n",
    "import datetime"
   ]
  },
  {
   "cell_type": "code",
   "execution_count": 62,
   "metadata": {},
   "outputs": [],
   "source": [
    "from selenium.webdriver.chrome.webdriver import WebDriver\n",
    "from selenium.webdriver.remote.webelement import WebElement\n",
    "from selenium.webdriver.common.keys import Keys\n",
    "from selenium.webdriver.support.ui import WebDriverWait\n",
    "from selenium.webdriver.support import expected_conditions as EC\n",
    "from selenium.webdriver.common.by import By\n",
    "from selenium import webdriver\n",
    "from selenium.webdriver.chrome.options import Options\n",
    "from selenium.webdriver.common.by import By\n",
    "import urllib.request\n",
    "\n",
    "chrome_options = Options()"
   ]
  },
  {
   "cell_type": "code",
   "execution_count": 63,
   "metadata": {},
   "outputs": [
    {
     "name": "stderr",
     "output_type": "stream",
     "text": [
      "<ipython-input-63-31e0dff60d03>:4: DeprecationWarning: use options instead of chrome_options\n",
      "  browser = webdriver.Chrome(executable_path=chromedriver, chrome_options=chrome_options)\n"
     ]
    }
   ],
   "source": [
    "BASE_URL = \"https://dgsaie.mise.gov.it/open-data\"\n",
    "chromedriver = \"/home/alesssandro/sw/chromedriver\"\n",
    "driver = webdriver.Chrome (executable_path=\"/home/alesssandro/sw/chromedriver\")\n",
    "browser = webdriver.Chrome(executable_path=chromedriver, chrome_options=chrome_options)\n",
    "browser.get(BASE_URL)\n",
    "wait = WebDriverWait(browser, 10)"
   ]
  },
  {
   "cell_type": "code",
   "execution_count": 64,
   "metadata": {},
   "outputs": [],
   "source": [
    "fuel_dictionary = {'DATA_RILEVAZIONE': [], 'BENZINA': [], 'GASOLIO_AUTO': [],'GPL': []}\n",
    "date_path = (\"//td[@class='google-visualization-table-type-date google-visualization-table-td']\")\n",
    "petrol_path = (\"//td[@class='google-visualization-table-type-number google-visualization-table-td'][1]\")\n",
    "diesel_path = (\"//td[@class='google-visualization-table-type-number google-visualization-table-td'][2]\")\n",
    "gpl_path = (\"//td[@class='google-visualization-table-type-number google-visualization-table-td'][3]\")\n",
    "\n"
   ]
  },
  {
   "cell_type": "code",
   "execution_count": 77,
   "metadata": {},
   "outputs": [],
   "source": [
    "def getFile():\n",
    "    url = 'https://dgsaie.mise.gov.it/open_data_export.php?export-id=1&export-type=csv'\n",
    "    urllib.request.urlretrieve(url, '/home/alesssandro/Scrivania/fuelprice.csv')\n",
    "    f=pd.read_csv(\"/home/alesssandro/Scrivania/fuelprice.csv\")\n",
    "    keep_col = ['DATA_RILEVAZIONE','BENZINA','GASOLIO_AUTO','GPL']#removing unnecessary columns\n",
    "    new_f = f[keep_col]\n",
    "    new_f.to_csv(\"/home/alesssandro/Scrivania/fuelprice.csv\", index=False)"
   ]
  },
  {
   "cell_type": "code",
   "execution_count": 66,
   "metadata": {},
   "outputs": [],
   "source": [
    "def get_values(list_name, path_name, dictionary_key):\n",
    "    for value in browser.find_elements_by_xpath(path_name):\n",
    "        list_name.append(value.text)  \n",
    "   \n",
    "    for line in list_name:\n",
    "        fuel_dictionary[\"{}\".format(dictionary_key)].append(line)\n",
    "    "
   ]
  },
  {
   "cell_type": "code",
   "execution_count": 67,
   "metadata": {},
   "outputs": [],
   "source": [
    "def monthToNum(month):\n",
    "    return {\n",
    "            'Gen': \"01\",'Feb': \"02\", 'Mar': \"03\", 'Apr': \"04\",\n",
    "            'Mag': \"05\", 'Giu': \"06\",'Lug': \"07\", 'Ago': \"08\",\n",
    "            'Set': \"09\", 'Ott': \"10\",'Nov': \"11\", 'Dic': \"12\"\n",
    "    }[month]"
   ]
  },
  {
   "cell_type": "code",
   "execution_count": 68,
   "metadata": {},
   "outputs": [],
   "source": [
    "def changeDateValue():\n",
    "    cleaned_list = [] #temporary list with cleaned values\n",
    "    values = fuel_dictionary[\"DATA_RILEVAZIONE\"]\n",
    "    \n",
    "    for line in values:\n",
    "        \n",
    "        day = line.split(\" \",2)[0]\n",
    "        month = line.split(\" \",2)[1]\n",
    "        year = line.split(\" \",2)[2]\n",
    "\n",
    "        date_string = year + \"-\" + monthToNum(month) + \"-\" + day\n",
    "        cleaned_list.append(date_string)\n",
    "    fuel_dictionary[\"DATA_RILEVAZIONE\"].clear()\n",
    "    \n",
    "    for date in cleaned_list:\n",
    "        fuel_dictionary[\"DATA_RILEVAZIONE\"].append(date)"
   ]
  },
  {
   "cell_type": "code",
   "execution_count": 69,
   "metadata": {},
   "outputs": [],
   "source": [
    "def get_data():\n",
    "    date_list = []\n",
    "    petrol_list = []\n",
    "    diesel_list = []\n",
    "    gpl_list = []\n",
    "    get_values(date_list, date_path, \"DATA_RILEVAZIONE\")\n",
    "    get_values(petrol_list, petrol_path, \"BENZINA\")\n",
    "    get_values(diesel_list, diesel_path, \"GASOLIO_AUTO\")\n",
    "    get_values(gpl_list, gpl_path, \"GPL\")"
   ]
  },
  {
   "cell_type": "code",
   "execution_count": 70,
   "metadata": {},
   "outputs": [],
   "source": [
    "def getLastRow():\n",
    "    df1 = pd.read_csv('/home/alesssandro/Scrivania/fuelprice.csv')\n",
    "    df2 = pd.DataFrame(df1.iloc[-1:,:].values) #get last row\n",
    "    last_row = df2._get_value(0,0)#.replace(\"-\", \"\") # date of last row\n",
    "    return last_row\n",
    "    "
   ]
  },
  {
   "cell_type": "code",
   "execution_count": 71,
   "metadata": {},
   "outputs": [],
   "source": [
    "def getLastMonth():\n",
    "    today = datetime.date.today()\n",
    "    lastMonth = today - datetime.timedelta(days=31)\n",
    "    lastMonth = lastMonth.strftime(\"%d%m%Y\")\n",
    "    return lastMonth"
   ]
  },
  {
   "cell_type": "code",
   "execution_count": 72,
   "metadata": {},
   "outputs": [],
   "source": [
    "def noDuplicate(): #old method with open\n",
    "    with open('/home/alesssandro/Scrivania/fuelprice.csv', 'r') as fp:\n",
    "        s = fp.read()\n",
    "    missing = []\n",
    "    for url in fuel_dictionary:\n",
    "        if url not in s:\n",
    "            missing.append(url + '\\n')\n",
    "    if missing:\n",
    "        with open('/home/alesssandro/Scrivania/fuelprice.csv', 'a+') as fp:\n",
    "            fp.writelines(missing)"
   ]
  },
  {
   "cell_type": "code",
   "execution_count": 73,
   "metadata": {},
   "outputs": [],
   "source": [
    "def removeDuplicate():\n",
    "    getLastRow()\n",
    "    for cicle in range(len(fuel_dictionary)-1):\n",
    "        if last_row == fuel_dictionary['DATA_RILEVAZIONE'][cicle]:\n",
    "            for key in fuel_dictionary.keys():\n",
    "                    del fuel_dictionary[key][cicle]"
   ]
  },
  {
   "cell_type": "code",
   "execution_count": 75,
   "metadata": {},
   "outputs": [],
   "source": [
    "def intoCsv():\n",
    "    df2 = pd.DataFrame(data = fuel_dictionary)\n",
    "    df2.to_csv('/home/alesssandro/Scrivania/fuelprice.csv', mode='a', index = None, header = False, decimal='.', sep=',')"
   ]
  },
  {
   "cell_type": "code",
   "execution_count": 74,
   "metadata": {},
   "outputs": [],
   "source": [
    "try:\n",
    "    file = open(\"/home/alesssandro/Scrivania/fuelprice.csv\")\n",
    "    browser.get(\"https://dgsaie.mise.gov.it/analisi-prezzi-settimanali-carburanti\")\n",
    "    #getLastRow()\n",
    "    wait.until(EC.visibility_of_element_located((By.NAME, \"DGISSEG_MiSE_wm_form_dati_prezzo_intervallo_da\"))).send_keys(getLastMonth())\n",
    "    wait.until(EC.visibility_of_element_located((By.ID, \"DGISSEG_MiSE_wm_formcheck_1006\"))).click();#GPL checkbox\n",
    "    \n",
    "    wait.until(EC.visibility_of_element_located((By.XPATH, \"//div[@class='mt-4 text-center']/button[@class='btn btn-block btn-primary wmSubmitButton text-break']\"))).click(); \n",
    "\n",
    "    time.sleep(3)\n",
    "    get_data()\n",
    "    changeDateValue()\n",
    "    removeDuplicate()\n",
    "    intoCsv()\n",
    "    \n",
    "except IOError:\n",
    "    getFile()"
   ]
  },
  {
   "cell_type": "code",
   "execution_count": null,
   "metadata": {},
   "outputs": [],
   "source": []
  }
 ],
 "metadata": {
  "kernelspec": {
   "display_name": "Python 3",
   "language": "python",
   "name": "python3"
  },
  "language_info": {
   "codemirror_mode": {
    "name": "ipython",
    "version": 3
   },
   "file_extension": ".py",
   "mimetype": "text/x-python",
   "name": "python",
   "nbconvert_exporter": "python",
   "pygments_lexer": "ipython3",
   "version": "3.8.5"
  }
 },
 "nbformat": 4,
 "nbformat_minor": 4
}
