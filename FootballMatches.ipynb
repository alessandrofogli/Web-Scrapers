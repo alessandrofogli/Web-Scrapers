{
 "cells": [
  {
   "cell_type": "code",
   "execution_count": 413,
   "metadata": {},
   "outputs": [],
   "source": [
    "import numpy as np\n",
    "import time\n",
    "from selenium import webdriver\n",
    "from typing import List\n",
    "import pandas as pd\n"
   ]
  },
  {
   "cell_type": "code",
   "execution_count": 414,
   "metadata": {},
   "outputs": [],
   "source": [
    "from selenium.webdriver.chrome.webdriver import WebDriver\n",
    "from selenium.webdriver.remote.webelement import WebElement\n",
    "from selenium.webdriver.common.keys import Keys\n",
    "from selenium.webdriver.support.ui import WebDriverWait\n",
    "from selenium.webdriver.support import expected_conditions as EC\n",
    "from selenium.webdriver.common.by import By\n",
    "from selenium import webdriver\n",
    "from selenium.webdriver.chrome.options import Options\n",
    "from selenium.webdriver.common.by import By\n",
    "\n",
    "chrome_options = Options()"
   ]
  },
  {
   "cell_type": "code",
   "execution_count": 415,
   "metadata": {},
   "outputs": [
    {
     "name": "stderr",
     "output_type": "stream",
     "text": [
      "<ipython-input-415-4b5c5c8358ec>:4: DeprecationWarning: use options instead of chrome_options\n",
      "  browser = webdriver.Chrome(executable_path=chromedriver, chrome_options=chrome_options)\n"
     ]
    }
   ],
   "source": [
    "BASE_URL = \"https://www.legaseriea.it/it/serie-a/archivio\"\n",
    "chromedriver = \"/home/alesssandro/sw/chromedriver\"\n",
    "driver = webdriver.Chrome (executable_path=\"/home/alesssandro/sw/chromedriver\")\n",
    "browser = webdriver.Chrome(executable_path=chromedriver, chrome_options=chrome_options)\n",
    "browser.get(BASE_URL)\n",
    "wait = WebDriverWait(browser, 10)"
   ]
  },
  {
   "cell_type": "code",
   "execution_count": 416,
   "metadata": {},
   "outputs": [],
   "source": [
    "home_team_path = \"//div[@class='col-xs-6 risultatosx']/h4[@class='nomesquadra']\"\n",
    "away_team_path = \"//div[@class='col-xs-6 risultatodx']/h4[@class='nomesquadra']\"\n",
    "date_path = \"//div[@class='datipartita']/p/span\"\n",
    "city_path = \"//div[@class='datipartita']/p\"\n",
    "\n",
    "matches_list = {'Date': [], 'Home Team': [], 'Away Team': [], 'City': []}\n"
   ]
  },
  {
   "cell_type": "code",
   "execution_count": 417,
   "metadata": {},
   "outputs": [],
   "source": [
    "def changeCityValue():\n",
    "    cleaned_list = [] #temporary list with cleaned values\n",
    "    values = matches_list[\"City\"]\n",
    "    \n",
    "    for line in values:\n",
    "        temp = (line.split(\"(\",1)[1]).split(\")\")[0] #extraction of text written in brackets in p tag \n",
    "        cleaned_list.append(temp)\n",
    "    matches_list[\"City\"].clear()\n",
    "    \n",
    "    for city in cleaned_list:\n",
    "        matches_list[\"City\"].append(city)"
   ]
  },
  {
   "cell_type": "code",
   "execution_count": 418,
   "metadata": {},
   "outputs": [],
   "source": [
    "def getValues(path_name, dictionary_key):\n",
    " \n",
    "    for value in browser.find_elements_by_xpath(path_name):\n",
    "        matches_list[\"{}\".format(dictionary_key)].append(value.text)"
   ]
  },
  {
   "cell_type": "code",
   "execution_count": 419,
   "metadata": {},
   "outputs": [],
   "source": [
    "def getData():\n",
    "    getValues(date_path,\"Date\")\n",
    "    getValues(home_team_path,\"Home Team\")\n",
    "    getValues(away_team_path,\"Away Team\")\n",
    "    getValues(city_path,\"City\")\n"
   ]
  },
  {
   "cell_type": "code",
   "execution_count": 420,
   "metadata": {},
   "outputs": [],
   "source": [
    "def matchDays(): #iteration of all season matches\n",
    "    \n",
    "    box_calendar_path = \"//ul[1]/li[@class='box_Ngiornata_andata']\"#first round box path\n",
    "    matches_counter = len(browser.find_elements_by_xpath(box_calendar_path)*2) #count of season matchdays\n",
    "    \n",
    "    for element in range(1,(matches_counter)+1):\n",
    "        current_season = browser.find_element_by_xpath(\"//select[@id='archivio_stagione_id']/option[@selected='selected']\")#string of season got from dropdown menu\n",
    "        wait.until(lambda brow: len(brow.find_elements_by_xpath(box_calendar_path)) == (matches_counter / 2))\n",
    "        getData()\n",
    "        browser.get(\"https://www.legaseriea.it/it/serie-a/archivio/{}/UNICO/UNI/{}\".format(current_season.text,element));#url change to iterate each matchday"
   ]
  },
  {
   "cell_type": "code",
   "execution_count": 421,
   "metadata": {},
   "outputs": [],
   "source": [
    "def seasonCicle(): #iteration of seasons \n",
    "    \n",
    "    season_number = browser.find_elements_by_xpath(\"//select[@id='archivio_stagione_id']/option\") #in case we want to iterate all archive season, use it in final range below\n",
    "    browser.find_element_by_id(\"archivio_stagione_id\").click();\n",
    "\n",
    "    for element in range(1,21): #range until season 2000-2001\n",
    "        browser.find_element_by_xpath(\"//option[{}]\".format(element)).click();#season selection from dropdown menu\n",
    "        matchDays()#iteration of matchdays for each season"
   ]
  },
  {
   "cell_type": "code",
   "execution_count": 422,
   "metadata": {},
   "outputs": [],
   "source": [
    "seasonCicle()\n",
    "changeCityValue()"
   ]
  },
  {
   "cell_type": "code",
   "execution_count": 423,
   "metadata": {},
   "outputs": [],
   "source": [
    "df = pd.DataFrame(data = matches_list)\n",
    "df.to_csv('./matches_list.csv', index=None)"
   ]
  }
 ],
 "metadata": {
  "kernelspec": {
   "display_name": "Python 3",
   "language": "python",
   "name": "python3"
  },
  "language_info": {
   "codemirror_mode": {
    "name": "ipython",
    "version": 3
   },
   "file_extension": ".py",
   "mimetype": "text/x-python",
   "name": "python",
   "nbconvert_exporter": "python",
   "pygments_lexer": "ipython3",
   "version": "3.8.5"
  }
 },
 "nbformat": 4,
 "nbformat_minor": 4
}
