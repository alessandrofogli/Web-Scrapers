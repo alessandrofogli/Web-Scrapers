{
 "cells": [
  {
   "cell_type": "code",
   "execution_count": 120,
   "metadata": {},
   "outputs": [],
   "source": [
    "import numpy as np\n",
    "import time\n",
    "from selenium import webdriver\n",
    "from typing import List\n",
    "import pandas as pd\n"
   ]
  },
  {
   "cell_type": "code",
   "execution_count": 121,
   "metadata": {},
   "outputs": [],
   "source": [
    "from selenium.webdriver.chrome.webdriver import WebDriver\n",
    "from selenium.webdriver.remote.webelement import WebElement\n",
    "from selenium.webdriver.common.keys import Keys\n",
    "from selenium.webdriver.support.ui import WebDriverWait\n",
    "from selenium.webdriver.support import expected_conditions as EC\n",
    "from selenium.webdriver.common.by import By\n",
    "from selenium import webdriver\n",
    "from selenium.webdriver.chrome.options import Options\n",
    "from selenium.webdriver.common.by import By\n",
    "\n",
    "chrome_options = Options()\n",
    "#chrome_options.add_argument(\"--headless\")"
   ]
  },
  {
   "cell_type": "code",
   "execution_count": 122,
   "metadata": {},
   "outputs": [
    {
     "name": "stderr",
     "output_type": "stream",
     "text": [
      "<ipython-input-122-575b99e7ea26>:4: DeprecationWarning: use options instead of chrome_options\n",
      "  browser = webdriver.Chrome(executable_path=chromedriver, chrome_options=chrome_options)\n"
     ]
    }
   ],
   "source": [
    "BASE_URL = \"https://www.eventiesagre.it/elenco.html\"\n",
    "chromedriver = \"/home/alesssandro/sw/chromedriver\"\n",
    "driver = webdriver.Chrome (executable_path=\"/home/alesssandro/sw/chromedriver\")\n",
    "browser = webdriver.Chrome(executable_path=chromedriver, chrome_options=chrome_options)\n",
    "browser.get(BASE_URL)\n",
    "wait = WebDriverWait(browser, 10)"
   ]
  },
  {
   "cell_type": "code",
   "execution_count": 123,
   "metadata": {},
   "outputs": [],
   "source": [
    "events_list = {'Title': [], 'Region': [], 'Date from-to': []}#dictionary of events \n",
    "date_path = \"//div[@class='DX']/div[@class='testo']/div[1]\"#path to locate date of each events on the Website\n",
    "title_path = \"//div[@class='DX']/div[@class='testo']/h3[@class='titolo']\"#path to locate title of each events on the Website\n",
    "region_path = \"//div[@class='DX']/div[@class='testo']/span[@class='grassetto'][1]\"#path to locate region of each events on the Website"
   ]
  },
  {
   "cell_type": "code",
   "execution_count": 124,
   "metadata": {},
   "outputs": [],
   "source": [
    "def waitUntil():#wait until all 14 events have been loaded on the Website and then it goes to the next page by clicking on \"Avanti\" link\n",
    "    wait.until(lambda brow: len(brow.find_elements_by_xpath(date_path)) == 14)\n",
    "    wait.until(lambda brow: len(brow.find_elements_by_xpath(title_path)) == 14)\n",
    "    wait.until(lambda brow: len(brow.find_elements_by_xpath(region_path)) == 14)\n",
    "    time.sleep(2)\n",
    "    browser.find_element_by_link_text(\"Avanti\").click();"
   ]
  },
  {
   "cell_type": "code",
   "execution_count": 125,
   "metadata": {},
   "outputs": [],
   "source": [
    "def change_date_value():# cleaning date value\n",
    "    cleaned_list = []\n",
    "    values = events_list[\"Date from-to\"]\n",
    "\n",
    "    for i in values:\n",
    "        temp = i.replace(\"Dal\", \"\").replace('Al','-').replace(\" \", \"\").replace('Il','')\n",
    "        cleaned_list.append(temp)\n",
    "    events_list[\"Date from-to\"].clear()\n",
    "    for n in cleaned_list:\n",
    "        events_list[\"Date from-to\"].append(n)"
   ]
  },
  {
   "cell_type": "code",
   "execution_count": 126,
   "metadata": {},
   "outputs": [],
   "source": [
    "def get_values(list_name, path_name, dictionary_key):#get values of events and append them to \"events_list\" dictionary\n",
    "    for value in browser.find_elements_by_xpath(path_name):\n",
    "        list_name.append(value.text)  \n",
    "    del list_name[0:4]#list is filled with 14 elements, the firs 4 are sponsor, this line only keep the following events before append them \n",
    "    \n",
    "    for line in list_name:\n",
    "        events_list[\"{}\".format(dictionary_key)].append(line)\n",
    "    "
   ]
  },
  {
   "cell_type": "code",
   "execution_count": 127,
   "metadata": {},
   "outputs": [],
   "source": [
    "def get_data():# get all events data thanks to \"get_values\"  function at the same time\n",
    "    titles_list = []\n",
    "    dates_list = []\n",
    "    regions_list = []\n",
    "    get_values(titles_list, title_path, \"Title\")\n",
    "    get_values(dates_list, date_path, \"Date from-to\")\n",
    "    get_values(regions_list, region_path, \"Region\")\n"
   ]
  },
  {
   "cell_type": "code",
   "execution_count": 128,
   "metadata": {},
   "outputs": [],
   "source": [
    "for prova in range(2):\n",
    "#while (browser.find_element_by_link_text(\"Avanti\")):#loop which iterates data collection until \"Avanti\" link is clickable\n",
    "    get_data()                                      # and other pages to iterate are still available\n",
    "    waitUntil()\n",
    "change_date_value()"
   ]
  },
  {
   "cell_type": "code",
   "execution_count": 129,
   "metadata": {},
   "outputs": [],
   "source": [
    "df = pd.DataFrame(data = events_list)\n",
    "df.to_csv('./report.csv', index=None)"
   ]
  },
  {
   "cell_type": "code",
   "execution_count": null,
   "metadata": {},
   "outputs": [],
   "source": []
  }
 ],
 "metadata": {
  "kernelspec": {
   "display_name": "Python 3",
   "language": "python",
   "name": "python3"
  },
  "language_info": {
   "codemirror_mode": {
    "name": "ipython",
    "version": 3
   },
   "file_extension": ".py",
   "mimetype": "text/x-python",
   "name": "python",
   "nbconvert_exporter": "python",
   "pygments_lexer": "ipython3",
   "version": "3.8.5"
  }
 },
 "nbformat": 4,
 "nbformat_minor": 4
}
